{
 "cells": [
  {
   "cell_type": "code",
   "execution_count": null,
   "metadata": {},
   "outputs": [],
   "source": [
    "\"\"\"\n",
    "Copyright (c) Meta Platforms, Inc. and affiliates.\n",
    "All rights reserved.\n",
    "This source code is licensed under the license found in the\n",
    "LICENSE file in the root directory of this source tree.\n",
    "\"\"\"\n",
    "from omegaconf import OmegaConf\n",
    "\n",
    "def load_dataset(config: OmegaConf):\n",
    "    from hydra.utils import instantiate\n",
    "    dataset = instantiate(config.datamodule)\n",
    "    dataset.prepare_data()\n",
    "    dataset.setup()\n",
    "    return dataset"
   ]
  },
  {
   "cell_type": "code",
   "execution_count": 4,
   "metadata": {},
   "outputs": [],
   "source": [
    "# make new omegaconf\n",
    "config10 = OmegaConf.create({\n",
    "    \"datamodule\": {\n",
    "        \"_target_\": \"recipe.datasets.astarmaze.AstarMazeDataset\",\n",
    "        \"batch_size\": 32,\n",
    "        \"num_workers\": 8,\n",
    "        \"return_prediction_mask\": True,\n",
    "        \"grid_n\": 10,\n",
    "        \"n_mazes\": 100\n",
    "    }\n",
    "})\n",
    "config20 = config10.copy()\n",
    "config20.datamodule.grid_n = 20\n",
    "config30 = config10.copy()\n",
    "config30.datamodule.grid_n = 30\n",
    "\n",
    "ds10 = load_dataset(config10)\n",
    "ds20 = load_dataset(config20)\n",
    "ds30 = load_dataset(config30)"
   ]
  },
  {
   "cell_type": "code",
   "execution_count": 23,
   "metadata": {},
   "outputs": [
    {
     "data": {
      "image/png": "[encoded data removed]",
      "text/plain": [
       "<Figure size 500x500 with 1 Axes>"
      ]
     },
     "metadata": {},
     "output_type": "display_data"
    },
    {
     "data": {
      "image/png": "[encoded data removed]",
      "text/plain": [
       "<Figure size 500x500 with 1 Axes>"
      ]
     },
     "metadata": {},
     "output_type": "display_data"
    },
    {
     "data": {
      "image/png": "[encoded data removed]",
      "text/plain": [
       "<Figure size 500x500 with 1 Axes>"
      ]
     },
     "metadata": {},
     "output_type": "display_data"
    }
   ],
   "source": [
    "# make this into a grid representation\n",
    "def get_walls(grid_tokens):\n",
    "    walls = []\n",
    "    for i,tok in enumerate(grid_tokens):\n",
    "        if tok == \"wall\":\n",
    "            # get the x, y coordinates\n",
    "            x = int(grid_tokens[i+1])\n",
    "            y = int(grid_tokens[i+2])\n",
    "            walls.append((x, y))\n",
    "    return walls\n",
    "\n",
    "def get_node(grid_tokens, name):\n",
    "    for i,tok in enumerate(grid_tokens):\n",
    "        if tok == name:\n",
    "            # get the x, y coordinates\n",
    "            x = int(grid_tokens[i+1])\n",
    "            y = int(grid_tokens[i+2])\n",
    "            return (x, y)\n",
    "    raise ValueError(f\"No {name} found\")\n",
    "\n",
    "def get_plan(grid_tokens):\n",
    "    plan = []\n",
    "    for i,tok in enumerate(grid_tokens):\n",
    "        if tok == \"plan\":\n",
    "            # get the x, y coordinates\n",
    "            x = int(grid_tokens[i+1])\n",
    "            y = int(grid_tokens[i+2])\n",
    "            plan.append((x, y))\n",
    "    return plan\n",
    "\n",
    "def plot_maze(grid_tokens, grid_size):\n",
    "    import matplotlib.pyplot as plt\n",
    "    from matplotlib.patches import FancyArrowPatch\n",
    "    walls = get_walls(grid_tokens)\n",
    "    plan = get_plan(grid_tokens)\n",
    "    start = get_node(grid_tokens, \"start\")\n",
    "    goal = get_node(grid_tokens, \"goal\")\n",
    "    plt.figure(figsize=(5, 5))\n",
    "    if grid_size == 10:\n",
    "        marker_size = 730\n",
    "        mutation_scale = 20\n",
    "        spine_width = 6\n",
    "    elif grid_size == 20:\n",
    "        marker_size = 182\n",
    "        mutation_scale = 10\n",
    "        spine_width = 12\n",
    "    elif grid_size == 30:\n",
    "        marker_size = 79\n",
    "        mutation_scale = 4\n",
    "        spine_width = 16\n",
    "\n",
    "    plt.scatter(*start, c=\"r\", s=marker_size/6)\n",
    "    plt.plot(*goal, \"x\", c=\"r\", markersize=marker_size**.5/2)\n",
    "    \n",
    "    for wall in walls:\n",
    "        plt.scatter(*wall, c=\"k\", s=marker_size, marker=\"s\")\n",
    "    plt.plot(*zip(*plan), '--', c=\"r\")\n",
    "    # for s,e in zip(plan[:-1], plan[1:]):\n",
    "    #     arrow = FancyArrowPatch(s, e, arrowstyle='-|>', mutation_scale=mutation_scale, color=\"b\")\n",
    "    #     plt.gca().add_patch(arrow)\n",
    "        # plt.arrow(*s, e[0]-s[0], e[1]-s[1], head_width=0.5, head_length=0.5, fc='b', ec='b')\n",
    "\n",
    "    plt.gca().set_aspect('equal', adjustable='box')\n",
    "    plt.xticks([])\n",
    "    plt.yticks([])\n",
    "    for spine in plt.gca().spines.values():\n",
    "      spine.set_linewidth(spine_width)\n",
    "\n",
    "    plt.savefig(f\"figures/{grid_size}x{grid_size}_astarmaze.pdf\", bbox_inches=\"tight\", pad_inches=0)\n",
    "\n",
    "for ds in [ds10, ds20, ds30]:\n",
    "    import torch\n",
    "    torch.manual_seed(42)\n",
    "    batch = next(iter(ds.train_dataloader()))\n",
    "    grid_repr = ds.tokenizer.decode(batch[\"input_ids\"][0].tolist())\n",
    "    plot_maze(grid_repr, ds.grid_n)"
   ]
  },
  {
   "cell_type": "code",
   "execution_count": null,
   "metadata": {},
   "outputs": [],
   "source": []
  }
 ],
 "metadata": {
  "kernelspec": {
   "display_name": "fair-recipe",
   "language": "python",
   "name": "python3"
  },
  "language_info": {
   "codemirror_mode": {
    "name": "ipython",
    "version": 3
   },
   "file_extension": ".py",
   "mimetype": "text/x-python",
   "name": "python",
   "nbconvert_exporter": "python",
   "pygments_lexer": "ipython3",
   "version": "3.11.5"
  }
 },
 "nbformat": 4,
 "nbformat_minor": 2
}
